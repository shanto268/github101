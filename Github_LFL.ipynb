{
 "cells": [
  {
   "cell_type": "markdown",
   "id": "061332b8",
   "metadata": {
    "slideshow": {
     "slide_type": "slide"
    }
   },
   "source": [
    "---\n",
    "\n",
    "\n",
    "<center>\n",
    "    <h1>Github 101\n",
    "    </h1>\n",
    "    <h2>\n",
    "        Nov 28 2022\n",
    "    </h2>\n",
    "</center>\n",
    "\n",
    "\n",
    "---\n"
   ]
  },
  {
   "cell_type": "markdown",
   "id": "a123b69a",
   "metadata": {
    "slideshow": {
     "slide_type": "subslide"
    }
   },
   "source": [
    "# What is Git?\n",
    "\n",
    "- Version control system designed to track changes in a source code over time\n",
    "- Collabortive system to allow many people work on the same project\n",
    "- Provision for creation of a single central repository (called \"origin\" or \"remote\")\n",
    "- Created by the great Linus Torvalds to make Linux development faster"
   ]
  },
  {
   "cell_type": "markdown",
   "id": "7506c99f",
   "metadata": {
    "slideshow": {
     "slide_type": "slide"
    }
   },
   "source": [
    "# What is GitHub?\n",
    "\n",
    "- Web platform built on top of git technology to make it easier\n",
    "- Offers additional features like user management, pull requests, automation\n",
    "- Alternatives include GitLab, BitBucket, and Sourcetree"
   ]
  },
  {
   "cell_type": "markdown",
   "id": "fdf074aa",
   "metadata": {
    "slideshow": {
     "slide_type": "slide"
    }
   },
   "source": [
    "# GitHub Use Cases\n",
    "\n",
    "- Version Controlling\n",
    "- Collaboration\n",
    "- *Inspiration*\n",
    "- **Continuous Integration / Continuous Development (CI/CD)**\n",
    "- **Software Development (Dev) and IT operations (Ops) (DevOps)**\n",
    "\n",
    "---"
   ]
  },
  {
   "cell_type": "markdown",
   "id": "13cd6c67",
   "metadata": {
    "slideshow": {
     "slide_type": "slide"
    }
   },
   "source": [
    "# Common Terminology (1/4)\n",
    "\n",
    "<ul class=\"list-disc list-outside list-force-indent mb-6\">\n",
    "<li class=\"mb-2\"><p><strong>Repository</strong> - &quot;Database&quot; of all the branches and commits of a single project</p></li>\n",
    "<li class=\"mb-2\"><p><strong>Branch</strong> - Alternative state or line of development for a repository.</p></li>\n",
    "<li class=\"mb-2\"><p><strong>Merge</strong> - Merging two (or more) branches into a single branch, single truth.</p></li>\n",
    "</ul>"
   ]
  },
  {
   "cell_type": "markdown",
   "id": "aa5ac113",
   "metadata": {
    "slideshow": {
     "slide_type": "subslide"
    }
   },
   "source": [
    "# Common Terminology (2/4)\n",
    "\n",
    "<ul>\n",
    "<li class=\"mb-2\"><p><strong>Clone</strong> - Creating a local copy of the remote repository.</p></li>\n",
    "<li class=\"mb-2\"><p><strong>Origin</strong> - Common alias for the remote repository which the local clone was created from</p></li>\n",
    "<li class=\"mb-2\"><p><strong>Main</strong> / <strong>Master</strong> - Common name for the root branch, which is the central source of truth.</p></li>\n",
    "</ul>"
   ]
  },
  {
   "cell_type": "markdown",
   "id": "4b98a6bd",
   "metadata": {
    "slideshow": {
     "slide_type": "subslide"
    }
   },
   "source": [
    "# Common Terminology (3/4)\n",
    "\n",
    "<ul>\n",
    "\n",
    "<li class=\"mb-2\"><p><strong>Stage</strong> - Choosing which files will be part of the new commit</p></li>\n",
    "<li class=\"mb-2\"><p><strong>Commit</strong> - A saved snapshot of staged changes made to the file(s) in the repository.</p></li>\n",
    "<li class=\"mb-2\"><p><strong>HEAD</strong> - Shorthand for the current commit your local repository is currently on.</p></li>\n",
    "</ul>"
   ]
  },
  {
   "cell_type": "markdown",
   "id": "4f0ba405",
   "metadata": {
    "slideshow": {
     "slide_type": "subslide"
    }
   },
   "source": [
    "# Common Terminology (4/4)\n",
    "\n",
    "<ul>\n",
    "<li class=\"mb-2\"><p><strong>Push</strong> - Pushing means sending your changes to the remote repository for everyone to see</p></li>\n",
    "<li class=\"mb-2\"><p><strong>Pull</strong> - Pulling means getting everybody else&#x27;s changes to your local repository</p></li>\n",
    "<li class=\"mb-2\"><p><strong>Pull Request</strong> - Mechanism to review &amp; approve your changes before merging to main/master</p></li>\n",
    "</ul>\n",
    "\n",
    "---"
   ]
  },
  {
   "cell_type": "markdown",
   "id": "3262b3e0",
   "metadata": {
    "slideshow": {
     "slide_type": "slide"
    }
   },
   "source": [
    "<center>\n",
    "<strong>Basic Commands</strong>\n",
    "<p><img class=\"mb-6\" src=\"commands.png\" width=\"1200\" height=\"1000\" alt=\"a bad repository\"/></p>\n",
    "    <br>\n",
    "</center>\n"
   ]
  },
  {
   "cell_type": "markdown",
   "id": "c73fd2f6",
   "metadata": {
    "slideshow": {
     "slide_type": "slide"
    }
   },
   "source": [
    "<center><h2>Terminology in One Picture</h2>\n",
    "<img class=\"mb-6\" src=\"term.jpeg\" width=\"800\" height=\"800\" alt=\"term\"/></p>\n",
    "</center>\n"
   ]
  },
  {
   "cell_type": "markdown",
   "id": "d2cef0d7",
   "metadata": {
    "slideshow": {
     "slide_type": "slide"
    }
   },
   "source": [
    "---\n",
    "\n",
    "<center>\n",
    "    <h1>Rules of thumb for Git</h1>\n",
    "</center>\n",
    "\n",
    "---\n"
   ]
  },
  {
   "cell_type": "markdown",
   "id": "f4bc94c6",
   "metadata": {
    "heading_collapsed": true,
    "slideshow": {
     "slide_type": "slide"
    }
   },
   "source": [
    "## Don't push datasets\n",
    "\n",
    "- Space limitations\n",
    "- Privacy issues\n",
    "- `.gitignore`\n",
    "    ```shell\n",
    "    # any data in root directory\n",
    "    *.csv\n",
    "    *.json\n",
    "    *.hdf5\n",
    "    \n",
    "    # ignore archives\n",
    "    *.zip\n",
    "    *.tar\n",
    "    *.tar.gz\n",
    "    *.rar\n",
    "\n",
    "    # ignore dataset folder and subfolders\n",
    "    datasets/\n",
    "    data/\n",
    "    ```"
   ]
  },
  {
   "cell_type": "markdown",
   "id": "8fc59398",
   "metadata": {
    "slideshow": {
     "slide_type": "subslide"
    }
   },
   "source": [
    "## Don't push secrets\n",
    "\n",
    "- **DO NOT HARD CODE ANY PRIVATE INFO INTO CODE**\n",
    "- Use `.env` and `python-dotenv` \n",
    "    - installing `python-dotenv` \n",
    "        ```bash\n",
    "        pip install python-dotenv\n",
    "        ```\n",
    "    - `.gitignore`\n",
    "         ```\n",
    "         .env\n",
    "         ```\n",
    "    - `.env`\n",
    "        ```shell\n",
    "        API_TOKEN=98789fsda789a89sdafsa9f87sda98f7sda89f7\n",
    "        ```\n",
    "    - `yourpythonfile.py`\n",
    "        ```python\n",
    "        from dotenv import load_dotenv\n",
    "        load_dotenv()\n",
    "        api_token = os.getenv('API_TOKEN')\n",
    "        ```\n",
    "  \n",
    "\n",
    "         "
   ]
  },
  {
   "cell_type": "markdown",
   "id": "fb994385",
   "metadata": {
    "slideshow": {
     "slide_type": "subslide"
    }
   },
   "source": [
    "## Do small commits with clear descriptions\n",
    "\n",
    "- part of version controlling\n",
    "- helpful in code recovery\n",
    "\n",
    "<center>\n",
    "<strong>Don't be this person</strong>\n",
    "<p><img class=\"mb-6\" src=\"https://valohai.com/blog/git-for-data-science/bad-repo.png\" width=\"1600\" height=\"800\" alt=\"a bad repository\"/></p>\n",
    "    <br>\n",
    "<strong>Be this person</strong>\n",
    "<p><img class=\"mb-6\" src=\"https://valohai.com/blog/git-for-data-science/good-repo.png\" width=\"1600\" height=\"800\" alt=\"a good repository\"/></p>\n",
    "</center>\n"
   ]
  },
  {
   "cell_type": "markdown",
   "id": "d83d988e",
   "metadata": {
    "slideshow": {
     "slide_type": "subslide"
    }
   },
   "source": [
    "## Branching & pull requests\n",
    "\n",
    "- branch repo's to **protect deployed code**, **add new features**, **run locally with customizations**\n",
    "- `main/master` branch should be OS and machine agnostic and **functional**\n",
    "\n",
    "<center>\n",
    "<img src=\"https://valohai.com/blog/git-for-data-science/git-branches.png\"  width=\"1400\" height=\"600\">\n",
    "</center>\n"
   ]
  },
  {
   "cell_type": "markdown",
   "id": "1f717724",
   "metadata": {
    "slideshow": {
     "slide_type": "subslide"
    }
   },
   "source": [
    "## In general...\n",
    "\n",
    "- Don't use the `--force`\n",
    "- Don't push notebook outputs *if possible*\n",
    "- Always `git pull` before `git push`"
   ]
  },
  {
   "cell_type": "markdown",
   "id": "95111f21",
   "metadata": {
    "slideshow": {
     "slide_type": "slide"
    }
   },
   "source": [
    "---\n",
    "\n",
    "<center>\n",
    "    <h1>Suggested Workflows</h1>\n",
    "</center>\n",
    "\n",
    "---\n"
   ]
  },
  {
   "cell_type": "markdown",
   "id": "7a56da22",
   "metadata": {
    "slideshow": {
     "slide_type": "slide"
    }
   },
   "source": [
    "## Starting a new code base:\n",
    "\n",
    "- Create a `README.md` file\n",
    "- Create a `requirements.txt` and `environment.yml` file for python projects\n",
    "    - `pip install pipreqs`\n",
    "    - `pipreqs path/to/project`\n",
    "    - `conda env create -f environment.yml`\n",
    "- Decide whether code should be private or public\n",
    "- Add yourself/others as collaborators once repository has been created\n",
    "- Create packaging instructions/shell script\n",
    "- Write **Unit Tests** and **Integration Tests** (*Optional*)"
   ]
  },
  {
   "cell_type": "markdown",
   "id": "69c08e71",
   "metadata": {
    "slideshow": {
     "slide_type": "subslide"
    }
   },
   "source": [
    "## Starting a new code base (*git and hub*):\n",
    "\n",
    "```shell\n",
    "$ git init\n",
    "$ hub create --private \n",
    "$ git add .\n",
    "$ git commit -m \"commit message\"\n",
    "$ git remote add origin [copied web address]\n",
    "$ git push origin\n",
    "```\n"
   ]
  },
  {
   "cell_type": "markdown",
   "id": "63ad8bac",
   "metadata": {
    "slideshow": {
     "slide_type": "subslide"
    }
   },
   "source": [
    "## Starting a new code base (*packaging*):\n",
    "\n",
    "1. add `__init__.py` in to your codebase\n",
    "2. create `requirements.txt`  (pipreqs)\n",
    "3. create `setup.py` \n",
    "    - ```python\n",
    "        import setuptools\n",
    "\n",
    "        setuptools.setup(\n",
    "        name='', \n",
    "        version='',\n",
    "        description='',url='#',\n",
    "        author='',\n",
    "        install_requires=[\"\"],\n",
    "\n",
    "        author_email='',\n",
    "\n",
    "        packages=setuptools.find_packages(),\n",
    "        zip_safe=False)\n",
    "      ```\n",
    "4. build - `pip install .` or rebuild -\n",
    "     ```shell\n",
    "     rm -rf build\n",
    "     rm -rf nameOfPackage.egg-info\n",
    "     pip install .\n",
    "     ```\n",
    "\n",
    "**example:** https://github.com/LFL-Lab/lflPython/tree/shanto\n"
   ]
  },
  {
   "cell_type": "markdown",
   "id": "68155801",
   "metadata": {
    "slideshow": {
     "slide_type": "slide"
    }
   },
   "source": [
    "# Unit Tests\n",
    "\n",
    "* Unit Tests are designed to test a specific functionality of code \n",
    "* Unit tests compare the output of a piece of code with expected output to determine whether the test should pass or fail\n",
    "- example    \n",
    "\n",
    "```python\n",
    "\n",
    "def make_integer(float_number):\n",
    "    \"\"\"\n",
    "    Function to turn floats into integers.\n",
    "    \"\"\"\n",
    "    return int(float_number)\n",
    "\n",
    "def test_make_integer(float_number):\n",
    "    \"\"\"\n",
    "    Tests whether 'make_integer' outputs integers\n",
    "    \"\"\"\n",
    "    assert type(make_integer(float_number)) == int\n",
    "```  \n",
    "\n",
    "- https://github.com/cleder/awesome-python-testing\n"
   ]
  },
  {
   "cell_type": "markdown",
   "id": "7f0d163a",
   "metadata": {
    "slideshow": {
     "slide_type": "slide"
    }
   },
   "source": [
    "# Integration Test\n",
    "\n",
    "* Integration Tests ensure that different pieces of code work together correctly as whole (i.e. that different pieces of code are well integrated)\n",
    "\n",
    "* Simulators to test experimental systems\n",
    "\n",
    "* Wide test cases to test simulations\n",
    "\n",
    "* https://github.com/features/actions"
   ]
  },
  {
   "cell_type": "markdown",
   "id": "70df9aa9",
   "metadata": {
    "slideshow": {
     "slide_type": "slide"
    }
   },
   "source": [
    "## Adding to an existing code base:\n",
    "\n",
    "- Different protocols for different needs - *bug fixes*, *documentation*, *feature additions*\n",
    "- Different ways depending on where changes are made from"
   ]
  },
  {
   "cell_type": "markdown",
   "id": "ddf1bed9",
   "metadata": {
    "slideshow": {
     "slide_type": "subslide"
    }
   },
   "source": [
    "## Adding to an existing code base (*Proper Protocol*):\n",
    "\n",
    "- Fork the repository\n",
    "- Clone the forked repository on the machine being used\n",
    "- Create a new branch\n",
    "    - naming conventions:\n",
    "        - continuous development case: `author-dev` or just `author` (e.g. `shanto`)\n",
    "        - feature based cases: `feature-author` or just `feature` (e.g. `hmm-sas`)\n",
    "- Create a Pull Request (https://docs.github.com/en/pull-requests/collaborating-with-pull-requests/proposing-changes-to-your-work-with-pull-requests/creating-a-pull-request)\n",
    "\n",
    "- Code Maintainer reviews the request (https://github.com/features/code-review) and decides to merge or not"
   ]
  },
  {
   "cell_type": "markdown",
   "id": "69a2e80d",
   "metadata": {
    "slideshow": {
     "slide_type": "subslide"
    }
   },
   "source": [
    "## Adding to an existing code base (*Realistic*):\n",
    "\n",
    "- For small bugs/documentation\n",
    "    - If on lab computer \n",
    "        - **fix the bug/document and commit**\n",
    "    - If on personal computer\n",
    "        - **fork, create new branch and pull request**\n",
    "- For features\n",
    "     - **follow the proper protocol**"
   ]
  },
  {
   "cell_type": "markdown",
   "id": "7403eae0",
   "metadata": {
    "slideshow": {
     "slide_type": "slide"
    }
   },
   "source": [
    "## Deployment of Software on Lab computers/HPC:\n",
    "\n",
    "- **Assuming the correct protocols were followed**\n",
    "- Clone the repository\n",
    "- Copy over any secret files securely (i.e. `.env`)\n",
    "- Create a fresh conda environment or `pip install -r requirements.txt` to the current environment\n",
    "- Build the package to resolve any path issues (`pip install .`)\n",
    "- Run the code 😇"
   ]
  }
 ],
 "metadata": {
  "celltoolbar": "Slideshow",
  "kernelspec": {
   "display_name": "Python 3 (ipykernel)",
   "language": "python",
   "name": "python3"
  },
  "language_info": {
   "codemirror_mode": {
    "name": "ipython",
    "version": 3
   },
   "file_extension": ".py",
   "mimetype": "text/x-python",
   "name": "python",
   "nbconvert_exporter": "python",
   "pygments_lexer": "ipython3",
   "version": "3.9.12"
  },
  "toc": {
   "base_numbering": 1,
   "nav_menu": {},
   "number_sections": false,
   "sideBar": true,
   "skip_h1_title": false,
   "title_cell": "Table of Contents",
   "title_sidebar": "Contents",
   "toc_cell": false,
   "toc_position": {
    "height": "calc(100% - 180px)",
    "left": "10px",
    "top": "150px",
    "width": "212px"
   },
   "toc_section_display": true,
   "toc_window_display": false
  }
 },
 "nbformat": 4,
 "nbformat_minor": 5
}
